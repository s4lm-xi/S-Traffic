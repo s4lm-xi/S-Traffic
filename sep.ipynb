{
 "cells": [
  {
   "cell_type": "code",
   "execution_count": 1,
   "metadata": {},
   "outputs": [],
   "source": [
    "import cv2\n",
    "import os\n",
    "from skimage.transform import resize \n",
    "import os\n",
    "import glob"
   ]
  },
  {
   "cell_type": "code",
   "execution_count": 2,
   "metadata": {
    "scrolled": true
   },
   "outputs": [
    {
     "name": "stdout",
     "output_type": "stream",
     "text": [
      "Done!\n",
      "Extracted 2648 frames\n",
      "(576, 1024, 3)\n"
     ]
    }
   ],
   "source": [
    "video = cv2.VideoCapture('input/input.mp4')\n",
    "check = len(os.listdir('frames/'))\n",
    "index = 0\n",
    "\n",
    "if check > 0:\n",
    "    # Delete all the frames\n",
    "    files = glob.glob('frames/*')\n",
    "    for f in files:\n",
    "        os.remove(f)\n",
    "    \n",
    "while True:\n",
    "    _, frame = video.read()\n",
    "    \n",
    "    try:\n",
    "        res = resize(frame, (576,1024))\n",
    "        \n",
    "        cv2.imwrite(f'frames/{index}.jpg', res*255)\n",
    "        index +=1\n",
    "    except:\n",
    "        print('Done!')\n",
    "        print(f'Extracted {index} frames')\n",
    "        print(res.shape)\n",
    "        break\n"
   ]
  },
  {
   "cell_type": "code",
   "execution_count": null,
   "metadata": {},
   "outputs": [],
   "source": []
  }
 ],
 "metadata": {
  "kernelspec": {
   "display_name": "Python 3",
   "language": "python",
   "name": "python3"
  },
  "language_info": {
   "codemirror_mode": {
    "name": "ipython",
    "version": 3
   },
   "file_extension": ".py",
   "mimetype": "text/x-python",
   "name": "python",
   "nbconvert_exporter": "python",
   "pygments_lexer": "ipython3",
   "version": "3.8.3"
  }
 },
 "nbformat": 4,
 "nbformat_minor": 4
}
