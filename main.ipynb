{
 "cells": [
  {
   "cell_type": "code",
   "execution_count": 1,
   "metadata": {},
   "outputs": [
    {
     "name": "stdout",
     "output_type": "stream",
     "text": [
      "pygame 2.0.1 (SDL 2.0.14, Python 3.8.3)\n",
      "Hello from the pygame community. https://www.pygame.org/contribute.html\n"
     ]
    }
   ],
   "source": [
    "import subprocess as s\n",
    "import tkinter as tk\n",
    "from arabic_reshaper import reshape\n",
    "import os\n",
    "from bidi.algorithm import get_display\n",
    "import pandas as pd\n",
    "import cv2\n",
    "import pygame"
   ]
  },
  {
   "cell_type": "code",
   "execution_count": 2,
   "metadata": {},
   "outputs": [],
   "source": [
    "def start(limit):\n",
    "    path = 'output/output.mp4'\n",
    "    video = cv2.VideoCapture(path)\n",
    "    data = pd.read_csv('csv/results.csv')\n",
    "    index = 0\n",
    "    do = True\n",
    "    \n",
    "    try:\n",
    "        while True:\n",
    "            _, frame = video.read()\n",
    "\n",
    "            cv2.imshow('Stream...', frame)\n",
    "            if do:\n",
    "                num = data['number'][index]\n",
    "                if num == limit:\n",
    "                    pygame.mixer.init()\n",
    "                    pygame.mixer.music.load(\"alert.wav\")\n",
    "                    pygame.mixer.music.play()\n",
    "                    while pygame.mixer.music.get_busy() == True:\n",
    "                        continue        \n",
    "                    s.call(['notify-send', 'تنبيه','تم الوصول الى الحد الاقصى'])\n",
    "                    do = False\n",
    "                \n",
    "                index +=1\n",
    "            \n",
    "            if cv2.waitKey(25) == ord('q'):\n",
    "                cv2.destroyAllWindows()\n",
    "                video.release()\n",
    "                break\n",
    "    except:\n",
    "        cv2.destroyAllWindows()\n",
    "        video.release()\n",
    "        \n",
    "def graph():\n",
    "    os.system('xdg-open /home/s4lm_xi/S-Traffic/graphs')\n",
    "\n",
    "def destroy():\n",
    "    window.destroy()"
   ]
  },
  {
   "cell_type": "code",
   "execution_count": 17,
   "metadata": {},
   "outputs": [],
   "source": [
    "window = tk.Tk()\n",
    "window.title('S-Traffic')\n",
    "\n",
    "emp = tk.Label(window, text='''\n",
    "███████╗   ████████╗██████╗  █████╗ ███████╗███████╗██╗ ██████╗\n",
    "██╔════╝   ╚══██╔══╝██╔══██╗██╔══██╗██╔════╝██╔════╝██║██╔════╝\n",
    "███████╗█████╗██║   ██████╔╝███████║█████╗  █████╗  ██║██║     \n",
    "╚════██║╚════╝██║   ██╔══██╗██╔══██║██╔══╝  ██╔══╝  ██║██║     \n",
    "███████║      ██║   ██║  ██║██║  ██║██║     ██║     ██║╚██████╗\n",
    "╚══════╝      ╚═╝   ╚═╝  ╚═╝╚═╝  ╚═╝╚═╝     ╚═╝     ╚═╝ ╚═════╝\n",
    "                                                               \n",
    "''', fg='red').grid(row=0, column=1, padx=120, pady=30)\n",
    "\n",
    "lbl = tk.Button(window, text=get_display(reshape('ابدأ المراقبة')), font=('', 19),\n",
    "               command=lambda: start(scale_widget.get()), borderwidth = 3)\n",
    "lbl.grid(row=1, column=0)\n",
    "\n",
    "scale_widget = tk.Scale(window, from_=1, to=100,\n",
    "                             orient=tk.HORIZONTAL, width=35, borderwidth=2, font=('', 15))\n",
    "scale_widget.grid(row=1, column=1)\n",
    "\n",
    "lbl = tk.Button(window, text=get_display(reshape('اوقف المراقبة')), font=('', 19), borderwidth = 3)\n",
    "lbl.grid(row=1, column=2)\n",
    "\n",
    "lbl = tk.Button(window, text=get_display(reshape('الخروج')), font=('', 19),\n",
    "               command=destroy, borderwidth = 3)\n",
    "lbl.grid(row=2, column=0)\n",
    "\n",
    "lbl = tk.Button(window, text=get_display(reshape('تحليل البيانات')), font=('', 19),\n",
    "               command=graph, borderwidth = 3)\n",
    "lbl.grid(row=2, column=2)\n",
    "\n",
    "window.mainloop()"
   ]
  },
  {
   "cell_type": "code",
   "execution_count": null,
   "metadata": {},
   "outputs": [],
   "source": []
  }
 ],
 "metadata": {
  "kernelspec": {
   "display_name": "Python 3",
   "language": "python",
   "name": "python3"
  },
  "language_info": {
   "codemirror_mode": {
    "name": "ipython",
    "version": 3
   },
   "file_extension": ".py",
   "mimetype": "text/x-python",
   "name": "python",
   "nbconvert_exporter": "python",
   "pygments_lexer": "ipython3",
   "version": "3.8.3"
  }
 },
 "nbformat": 4,
 "nbformat_minor": 4
}
