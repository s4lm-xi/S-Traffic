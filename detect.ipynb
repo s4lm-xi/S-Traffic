{
 "cells": [
  {
   "cell_type": "code",
   "execution_count": 1,
   "metadata": {},
   "outputs": [],
   "source": [
    "import os\n",
    "import re\n",
    "import cv2 # opencv library\n",
    "import numpy as np\n",
    "from os.path import isfile, join\n",
    "import matplotlib.pyplot as plt\n",
    "from tqdm import tqdm\n",
    "import glob\n",
    "import pandas as pd"
   ]
  },
  {
   "cell_type": "code",
   "execution_count": 2,
   "metadata": {},
   "outputs": [],
   "source": [
    "files = glob.glob('output_frames/*')\n",
    "for f in files:\n",
    "    os.remove(f)"
   ]
  },
  {
   "cell_type": "code",
   "execution_count": 3,
   "metadata": {},
   "outputs": [
    {
     "name": "stderr",
     "output_type": "stream",
     "text": [
      "100%|██████████| 2648/2648 [01:00<00:00, 43.51it/s]\n"
     ]
    }
   ],
   "source": [
    "# get file names of the frames\n",
    "col_frames = os.listdir('frames/')\n",
    "\n",
    "# sort file names\n",
    "col_frames.sort(key=lambda f: int(re.sub('\\D', '', f)))\n",
    "\n",
    "# empty list to store the frames\n",
    "col_images=[]\n",
    "\n",
    "for i in tqdm(col_frames):\n",
    "    # read the frames\n",
    "    img = cv2.imread('frames/'+i)\n",
    "    # append the frames to the list\n",
    "    col_images.append(img)"
   ]
  },
  {
   "cell_type": "code",
   "execution_count": 4,
   "metadata": {},
   "outputs": [
    {
     "name": "stderr",
     "output_type": "stream",
     "text": [
      "100%|██████████| 2647/2647 [01:27<00:00, 30.29it/s]\n"
     ]
    },
    {
     "data": {
      "text/html": [
       "<div>\n",
       "<style scoped>\n",
       "    .dataframe tbody tr th:only-of-type {\n",
       "        vertical-align: middle;\n",
       "    }\n",
       "\n",
       "    .dataframe tbody tr th {\n",
       "        vertical-align: top;\n",
       "    }\n",
       "\n",
       "    .dataframe thead th {\n",
       "        text-align: right;\n",
       "    }\n",
       "</style>\n",
       "<table border=\"1\" class=\"dataframe\">\n",
       "  <thead>\n",
       "    <tr style=\"text-align: right;\">\n",
       "      <th></th>\n",
       "      <th>frame</th>\n",
       "      <th>number</th>\n",
       "    </tr>\n",
       "  </thead>\n",
       "  <tbody>\n",
       "    <tr>\n",
       "      <th>0</th>\n",
       "      <td>0</td>\n",
       "      <td>0</td>\n",
       "    </tr>\n",
       "    <tr>\n",
       "      <th>1</th>\n",
       "      <td>1</td>\n",
       "      <td>0</td>\n",
       "    </tr>\n",
       "    <tr>\n",
       "      <th>2</th>\n",
       "      <td>2</td>\n",
       "      <td>0</td>\n",
       "    </tr>\n",
       "    <tr>\n",
       "      <th>3</th>\n",
       "      <td>3</td>\n",
       "      <td>0</td>\n",
       "    </tr>\n",
       "    <tr>\n",
       "      <th>4</th>\n",
       "      <td>4</td>\n",
       "      <td>0</td>\n",
       "    </tr>\n",
       "  </tbody>\n",
       "</table>\n",
       "</div>"
      ],
      "text/plain": [
       "   frame  number\n",
       "0      0       0\n",
       "1      1       0\n",
       "2      2       0\n",
       "3      3       0\n",
       "4      4       0"
      ]
     },
     "execution_count": 4,
     "metadata": {},
     "output_type": "execute_result"
    }
   ],
   "source": [
    "data = {\n",
    "    'frame' : [],\n",
    "    'number' : []\n",
    "}\n",
    "\n",
    "kernel = np.ones((4,4),np.uint8)\n",
    "\n",
    "font = cv2.FONT_HERSHEY_SIMPLEX\n",
    "\n",
    "pathIn = \"output_frames/\"\n",
    "\n",
    "for i in tqdm(range(len(col_images)-1)):\n",
    "    \n",
    "    # frame differencing\n",
    "    grayA = cv2.cvtColor(col_images[i], cv2.COLOR_BGR2GRAY)\n",
    "    grayB = cv2.cvtColor(col_images[i+1], cv2.COLOR_BGR2GRAY)\n",
    "    diff_image = cv2.absdiff(grayB, grayA)\n",
    "    \n",
    "    # image thresholding\n",
    "    ret, thresh = cv2.threshold(diff_image, 30, 255, cv2.THRESH_BINARY)\n",
    "    \n",
    "    dilated = cv2.dilate(thresh,kernel,iterations = 1)\n",
    "    \n",
    "    contours, hierarchy = cv2.findContours(dilated.copy(), cv2.RETR_TREE,cv2.CHAIN_APPROX_NONE)\n",
    "    \n",
    "    valid_cntrs = []\n",
    "    for cntr in contours:\n",
    "        x,y,w,h = cv2.boundingRect(cntr)\n",
    "        if (x <= 200*4) & (y >= 50*4) & (cv2.contourArea(cntr) >= 25*4):\n",
    "            if (y >= 90*4) & (cv2.contourArea(cntr) < 40*4):\n",
    "                break\n",
    "            valid_cntrs.append(cntr)\n",
    "            \n",
    "    dmy = col_images[i].copy()\n",
    "    cv2.drawContours(dmy, valid_cntrs*4, -1, (127,200,0), 2)\n",
    "    \n",
    "    cv2.putText(dmy, \"vehicles detected: \" + str(len(valid_cntrs)), (55*4, 15*8), font, 2, (0, 180, 0), 2)\n",
    "    cv2.line(dmy, (0, 50),(1024,50),(100, 255, 255))\n",
    "    cv2.imwrite(pathIn+str(i)+'.png',dmy)  \n",
    "    data['frame'].append(i)\n",
    "    data['number'].append(len(valid_cntrs))\n",
    "    \n",
    "df = pd.DataFrame(data, columns=['frame', 'number'])\n",
    "df.to_csv('csv/results.csv', index=False, header=True)\n",
    "df.head()"
   ]
  },
  {
   "cell_type": "code",
   "execution_count": 55,
   "metadata": {},
   "outputs": [
    {
     "name": "stdout",
     "output_type": "stream",
     "text": [
      "Converting..\n"
     ]
    },
    {
     "name": "stderr",
     "output_type": "stream",
     "text": [
      "100%|██████████| 2647/2647 [01:31<00:00, 28.94it/s]\n"
     ]
    }
   ],
   "source": [
    "fps = 30\n",
    "path = 'output_frames/'\n",
    "name = 'output.mp4'\n",
    "img_file = [path+str(i)+'.png' for i in range(len(os.listdir(path)))]\n",
    "img = cv2.imread(img_file[0])\n",
    "height, width, channel = img.shape\n",
    "\n",
    "video = cv2.VideoWriter(name, cv2.VideoWriter_fourcc(*'XVID'), fps, (width, height))\n",
    "print('Converting..')\n",
    "\n",
    "for image in tqdm(img_file):\n",
    "    video.write(cv2.imread(image))\n",
    "\n",
    "cv2.destroyAllWindows()\n",
    "video.release()"
   ]
  },
  {
   "cell_type": "code",
   "execution_count": 7,
   "metadata": {},
   "outputs": [
    {
     "data": {
      "text/plain": [
       "54"
      ]
     },
     "execution_count": 7,
     "metadata": {},
     "output_type": "execute_result"
    }
   ],
   "source": [
    "df['number'].max()"
   ]
  },
  {
   "cell_type": "code",
   "execution_count": null,
   "metadata": {},
   "outputs": [],
   "source": []
  },
  {
   "cell_type": "code",
   "execution_count": null,
   "metadata": {},
   "outputs": [],
   "source": []
  },
  {
   "cell_type": "code",
   "execution_count": null,
   "metadata": {},
   "outputs": [],
   "source": []
  }
 ],
 "metadata": {
  "kernelspec": {
   "display_name": "Python 3",
   "language": "python",
   "name": "python3"
  },
  "language_info": {
   "codemirror_mode": {
    "name": "ipython",
    "version": 3
   },
   "file_extension": ".py",
   "mimetype": "text/x-python",
   "name": "python",
   "nbconvert_exporter": "python",
   "pygments_lexer": "ipython3",
   "version": "3.8.3"
  }
 },
 "nbformat": 4,
 "nbformat_minor": 4
}
